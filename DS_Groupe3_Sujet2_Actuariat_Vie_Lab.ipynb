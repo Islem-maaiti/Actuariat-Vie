{
  "cells": [
    {
      "cell_type": "markdown",
      "metadata": {
        "id": "R7UWPb_GsrMl"
      },
      "source": [
        "# Étape 1 : Télécharger les données de mortalité\n",
        "Nous devons d'abord télécharger les données de mortalité pour l'Angleterre et le Pays de Galles (GBRTENW) depuis la Human Mortality Database."
      ]
    },
    {
      "cell_type": "code",
      "execution_count": null,
      "metadata": {
        "colab": {
          "base_uri": "https://localhost:8080/"
        },
        "id": "oKygyt9Yzj0B",
        "outputId": "5f44e1d5-ba2d-4a02-ef25-df80fc146bf7"
      },
      "outputs": [
        {
          "output_type": "stream",
          "name": "stderr",
          "text": [
            "Installing package into ‘/usr/local/lib/R/site-library’\n",
            "(as ‘lib’ is unspecified)\n",
            "\n",
            "also installing the dependencies ‘xts’, ‘TTR’, ‘quadprog’, ‘quantmod’, ‘dotCall64’, ‘qvcalc’, ‘relimp’, ‘fracdiff’, ‘lmtest’, ‘timeDate’, ‘tseries’, ‘urca’, ‘zoo’, ‘RcppArmadillo’, ‘plyr’, ‘spam’, ‘maps’, ‘gnm’, ‘forecast’, ‘rootSolve’, ‘fanplot’, ‘reshape2’, ‘fields’\n",
            "\n",
            "\n",
            "Installing package into ‘/usr/local/lib/R/site-library’\n",
            "(as ‘lib’ is unspecified)\n",
            "\n",
            "also installing the dependencies ‘bitops’, ‘abind’, ‘rbibutils’, ‘checkmate’, ‘RCurl’, ‘magic’, ‘lpSolve’, ‘linprog’, ‘RcppProgress’, ‘gss’, ‘stabledist’, ‘gbutils’, ‘Rdpack’, ‘gridExtra’, ‘htmlTable’, ‘viridis’, ‘Formula’, ‘mvtnorm’, ‘fds’, ‘deSolve’, ‘geometry’, ‘proxy’, ‘mnormt’, ‘GPArotation’, ‘fBasics’, ‘timeSeries’, ‘fastICA’, ‘cvar’, ‘Hmisc’, ‘pracma’, ‘numDeriv’, ‘RcppEigen’, ‘Lmoments’, ‘locfit’, ‘ash’, ‘FNN’, ‘kernlab’, ‘mclust’, ‘multicool’, ‘MatrixModels’, ‘snakecase’, ‘sde’, ‘pcaPP’, ‘fda’, ‘pdfCluster’, ‘ecp’, ‘e1071’, ‘psych’, ‘fGarch’, ‘vars’, ‘fdapace’, ‘LaplacesDemon’, ‘evgam’, ‘ROOPSD’, ‘hdrcde’, ‘ks’, ‘SparseM’, ‘quantreg’, ‘sandwich’, ‘janitor’, ‘ftsa’, ‘rainbow’, ‘cobs’, ‘strucchange’, ‘HMDHFDplus’\n",
            "\n",
            "\n",
            "Warning message in install.packages(\"demography\"):\n",
            "“installation of package ‘ash’ had non-zero exit status”\n",
            "Warning message in install.packages(\"demography\"):\n",
            "“installation of package ‘hdrcde’ had non-zero exit status”\n",
            "Warning message in install.packages(\"demography\"):\n",
            "“installation of package ‘rainbow’ had non-zero exit status”\n",
            "Warning message in install.packages(\"demography\"):\n",
            "“installation of package ‘fds’ had non-zero exit status”\n",
            "Warning message in install.packages(\"demography\"):\n",
            "“installation of package ‘fda’ had non-zero exit status”\n",
            "Warning message in install.packages(\"demography\"):\n",
            "“installation of package ‘sde’ had non-zero exit status”\n",
            "Warning message in install.packages(\"demography\"):\n",
            "“installation of package ‘ftsa’ had non-zero exit status”\n",
            "Warning message in install.packages(\"demography\"):\n",
            "“installation of package ‘demography’ had non-zero exit status”\n"
          ]
        }
      ],
      "source": [
        "install.packages(\"StMoMo\")\n",
        "install.packages(\"demography\")\n",
        "\n"
      ]
    },
    {
      "cell_type": "code",
      "source": [
        "install.packages(\"dplyr\")\n",
        "install.packages(\"tidyr\")"
      ],
      "metadata": {
        "id": "-9ZAJj57jWlN",
        "colab": {
          "base_uri": "https://localhost:8080/"
        },
        "outputId": "3af8e9f6-2ba6-4913-946d-b3d6fc5c694a"
      },
      "execution_count": null,
      "outputs": [
        {
          "output_type": "stream",
          "name": "stderr",
          "text": [
            "Installing package into ‘/usr/local/lib/R/site-library’\n",
            "(as ‘lib’ is unspecified)\n",
            "\n",
            "Installing package into ‘/usr/local/lib/R/site-library’\n",
            "(as ‘lib’ is unspecified)\n",
            "\n"
          ]
        }
      ]
    },
    {
      "cell_type": "code",
      "source": [
        "library(StMoMo)\n",
        "library(demography)"
      ],
      "metadata": {
        "colab": {
          "base_uri": "https://localhost:8080/"
        },
        "id": "kFb3DhyzuEez",
        "outputId": "6e4d2000-1565-492b-aa77-2b8dfb092857"
      },
      "execution_count": null,
      "outputs": [
        {
          "output_type": "stream",
          "name": "stderr",
          "text": [
            "Loading required package: gnm\n",
            "\n",
            "Loading required package: forecast\n",
            "\n",
            "Registered S3 method overwritten by 'quantmod':\n",
            "  method            from\n",
            "  as.zoo.data.frame zoo \n",
            "\n"
          ]
        },
        {
          "output_type": "error",
          "ename": "ERROR",
          "evalue": "Error in library(demography): there is no package called ‘demography’\n",
          "traceback": [
            "Error in library(demography): there is no package called ‘demography’\nTraceback:\n",
            "1. stop(packageNotFoundError(package, lib.loc, sys.call()))"
          ]
        }
      ]
    },
    {
      "cell_type": "code",
      "source": [
        "england <- hmd.mx(country = \"GBRTENW\", username = \"islem.maiti@esprit.tn\", password = \"Islem12345..\")\n",
        "\n",
        "mortality_data <- extract.ages(england, 50)\n",
        "\n",
        "attach(england)"
      ],
      "metadata": {
        "id": "gr9lFH61jWnm"
      },
      "execution_count": null,
      "outputs": []
    },
    {
      "cell_type": "code",
      "source": [
        "class(england)\n"
      ],
      "metadata": {
        "id": "DxA5AdTujWp_"
      },
      "execution_count": null,
      "outputs": []
    },
    {
      "cell_type": "code",
      "source": [
        "summary(england)\n"
      ],
      "metadata": {
        "id": "WHoVuLIpjWsd"
      },
      "execution_count": null,
      "outputs": []
    },
    {
      "cell_type": "code",
      "source": [
        "head(england)"
      ],
      "metadata": {
        "id": "iKFnsQXSjWvC"
      },
      "execution_count": null,
      "outputs": []
    },
    {
      "cell_type": "code",
      "source": [
        "par(mfrow=c(1,3))\n",
        "plot(england,series=\"male\",datatype=\"rate\", main=\"Male rates\")\n",
        "plot(england,series=\"female\",datatype=\"rate\", main=\"Female rates\")\n",
        "plot(england,series=\"total\",datatype=\"rate\", main=\"Total rates\")"
      ],
      "metadata": {
        "id": "xYTV4EsOjWxb"
      },
      "execution_count": null,
      "outputs": []
    },
    {
      "cell_type": "code",
      "source": [
        "par(mfrow=c(1,3))\n",
        "plot(england,series=\"male\",datatype=\"rate\",plot.type=\"time\", main=\"Male rates\",xlab=\"Years\")\n",
        "plot(england,series=\"female\",datatype=\"rate\",plot.type=\"time\", main=\"Female rates\",xlab=\"Years\")\n",
        "plot(england,series=\"total\",datatype=\"rate\",plot.type=\"time\", main=\"Total rates\",xlab=\"Years\")\n"
      ],
      "metadata": {
        "id": "IIYzukGLjW0H"
      },
      "execution_count": null,
      "outputs": []
    },
    {
      "cell_type": "markdown",
      "source": [
        "#Phase 2 : VAP de la rente viagère anticipée et du capital décès\n"
      ],
      "metadata": {
        "id": "bmH5mzZZ328B"
      }
    },
    {
      "cell_type": "markdown",
      "source": [
        "\n",
        "\n",
        "  * Les taux de mortalité utilisés (de l'année 2018) jouent un rôle crucial dans le calcul de la VAP. Des taux de mortalité plus faibles (indiquant une plus grande longévité) augmenteraient la VAP de la rente viagère et pourraient réduire celle du capital décès si la période d'attente avant décès s'allonge.\n",
        "\n",
        "\n",
        " *  **Impact des Taux d'Intérêt :**\n",
        "\n",
        "  Le taux d'intérêt annuel de 3% utilisé dans les calculs est un facteur important. Des variations dans ce taux affecteraient significativement les VAP. Un taux plus élevé diminuerait les VAP en actualisant davantage les paiements futurs, tandis qu'un taux plus bas augmenterait les VAP."
      ],
      "metadata": {
        "id": "pQN-CZKa8gZh"
      }
    },
    {
      "cell_type": "markdown",
      "source": [
        "\n",
        "\n",
        "---\n",
        "\n"
      ],
      "metadata": {
        "id": "wTsYF3u69WFT"
      }
    },
    {
      "cell_type": "markdown",
      "source": [
        "  * Pour calculer la valeur actuelle probable (VAP) de la rente viagère anticipée et du capital décès en utilisant les taux de mortalité de l'année 2018, nous avons structurer votre code comme suit:\n",
        "  \n",
        "       *   Extraction des taux de mortalité de 2018.\n",
        "\n",
        "       *   Calcul de la VAP de la rente viagère anticipée.\n",
        "\n",
        "       *   Calcul de la VAP du capital décès.\n",
        "\n",
        "\n",
        "\n",
        "\n",
        "\n",
        "\n",
        "\n"
      ],
      "metadata": {
        "id": "XJyuCVAe9A8i"
      }
    },
    {
      "cell_type": "code",
      "source": [
        "male_mx <- mortality_data$rate$male\n",
        "\n",
        "\n",
        "# Convertir les taux de mortalité en une matrice avec les bonnes dimensions\n",
        "# Dans ce cas, il n'y a qu'une seule ligne, donc cela doit être adapté à vos âges spécifiques\n",
        "if (dim(male_mx)[1] == 1 && length(male_mx) == length(year)) {\n",
        "  mx <- matrix(rep(male_mx, each = length(age)), nrow = length(age), ncol = length(year))\n",
        "}\n",
        "\n",
        "# Créer une nouvelle liste de taux de mortalité mise à jour pour `mortality_data`\n",
        "new_mortality_data <- mortality_data\n",
        "new_mortality_data$rate$male <- mx\n",
        "\n",
        "# Mettre à jour les âges et les années dans l'objet\n",
        "new_mortality_data$age <- age\n",
        "new_mortality_data$year <- year\n",
        "\n",
        "mort_2018 <- mortality_data$rate[mortality_data$year == 2018]\n",
        "mort_2018$rate <- as.numeric(mort_2018$rate)\n",
        "\n",
        "\n",
        "\n",
        "# Par exemple, si les données de taux de mortalité sont dans un composant nommé 'rate' et les années dans 'year'\n",
        "mort_rates <- mortality_data$rate\n",
        "mort_years <- mortality_data$year\n",
        "\n",
        "\n",
        "# Extraire les taux de mortalité pour l'année 2018\n",
        "mort_2018 <- mort_rates[mort_years == 2018]\n",
        "# Extraction des taux de mortalité pour l'année 2018\n",
        "mort_2018 <- new_mortality_data$rate$male[, which(new_mortality_data$year == 2018)]\n",
        "\n",
        "mort_2018 <- as.numeric(mort_2018)\n",
        "\n",
        "\n",
        "# Calcul des probabilités de survie annuelle\n",
        "px <- 1 - mort_2018\n",
        "\n",
        "\n",
        "# Calcul des probabilités de survie cumulée\n",
        "survival_probs <- cumprod(px)\n",
        "\n",
        "# Paramètres de la rente\n",
        "rente_mensuelle <- 2000\n",
        "taux_interet_annuel <- 0.03  # Exemple de taux d'intérêt annuel\n",
        "taux_interet_mensuel <- taux_interet_annuel / 12\n",
        "\n",
        "# Calcul de la VAP de la rente viagère anticipée\n",
        "VAP_rente <- sum(rente_mensuelle * survival_probs / (1 + taux_interet_mensuel)^(0:(20*12-1)))\n",
        "\n",
        "# Probabilité de décès annuelle\n",
        "qx <- mort_2018\n",
        "\n",
        "\n",
        "# Capital décès\n",
        "capital_deces <- 10000\n",
        "\n",
        "# Calcul de la VAP du capital décès\n",
        "VAP_deces <- sum(capital_deces * qx * survival_probs / (1 + taux_interet_annuel)^(1:20))\n"
      ],
      "metadata": {
        "id": "tcDkpL0Z3suv"
      },
      "execution_count": null,
      "outputs": []
    },
    {
      "cell_type": "code",
      "source": [
        "# Afficher les résultats\n",
        "print(paste(\"VAP de la rente viagère anticipée :\", round(VAP_rente, 2)))\n",
        "print(paste(\"VAP du capital décès :\", round(VAP_deces, 2)))"
      ],
      "metadata": {
        "id": "0VQJqH_83sxI"
      },
      "execution_count": null,
      "outputs": []
    },
    {
      "cell_type": "markdown",
      "source": [
        "*Interprétation :*\n",
        "\n",
        "**VAP de la Rente Viagère Anticipée**\n",
        "\n",
        "Résultat: VAP de la rente viagère anticipée : 139332.93\n",
        "\n",
        "Le calcul a été fait en considérant une rente mensuelle de 2000 et un taux d'intérêt annuel de 3%, converti en taux mensuel.\n",
        "\n",
        "Montant Élevé : Une VAP de 139332.93 indique que les paiements de rente mensuelle de 2000 sont assez importants et que la personne est censée vivre encore plusieurs années pour que la somme des paiements atteigne cette valeur.\n",
        "Impact de la Mortalité : La VAP est directement influencée par les taux de mortalité. Si les taux de mortalité étaient plus bas (indiquant une espérance de vie plus longue), la VAP serait encore plus élevée car les paiements seraient faits sur une période plus longue.\n",
        "\n",
        "\n",
        "**VAP du Capital Décès**\n",
        "\n",
        "\n",
        "Résultat: VAP du capital décès : 6949.67\n",
        "\n",
        "\n",
        "Le calcul a été effectué en utilisant un capital décès de 10000 et un taux d'intérêt annuel de 3%.\n",
        "\n",
        "\n",
        "Montant Relativement Bas : Une VAP de 6949.67 indique que, bien que le capital décès soit de 10000, la probabilité de décès chaque année réduit la valeur actuelle de ce paiement.\n",
        "Probabilité de Décès : Le montant plus bas reflète les probabilités de décès annuelles qui, bien que non négligeables, ne sont pas suffisamment élevées pour que le paiement complet de 10000 soit fréquent. Les taux de mortalité de 2018 impliquent que la plupart des assurés vivront plusieurs années, réduisant ainsi la probabilité de paiement immédiat du capital décès.\n"
      ],
      "metadata": {
        "id": "nBkaD6Em-A37"
      }
    },
    {
      "cell_type": "markdown",
      "source": [
        "# Phase 3 :Estimation des paramètres d’un modèle de Lee-Carter"
      ],
      "metadata": {
        "id": "z1IsSqB0_80F"
      }
    },
    {
      "cell_type": "markdown",
      "source": [
        "\n",
        "\\\n",
        "Pour estimer les paramètres du modèle de Lee-Carter, nous utilisons les données de mortalité historiques de l'Angleterre. Le modèle de Lee-Carter est un modèle bien connu pour la modélisation et la projection des taux de mortalité."
      ],
      "metadata": {
        "id": "zlWNSAaDAtvp"
      }
    },
    {
      "cell_type": "markdown",
      "source": [
        "##  Chargement des données et préparation initiale"
      ],
      "metadata": {
        "id": "Zq6h-h5KBPnc"
      }
    },
    {
      "cell_type": "code",
      "source": [
        "\n",
        "eng.StMoMoData<-StMoMoData(data=england, series = \"total\",type=\"central\")\n",
        "\n",
        "eng.StMoMoData.Ini<-central2initial(eng.StMoMoData)\n",
        "eng.StMoMoData.Ini\n",
        "\n"
      ],
      "metadata": {
        "id": "wlejkg1q3sz3"
      },
      "execution_count": null,
      "outputs": []
    },
    {
      "cell_type": "markdown",
      "source": [
        "##  Choix de la plage d’âge et de la période pour la calibration"
      ],
      "metadata": {
        "id": "smyyqVYTBX0X"
      }
    },
    {
      "cell_type": "markdown",
      "source": [
        "Nous avons choisi de calibrer les données pour les âges de 50 à 70 ans. Cette plage d'âge est pertinente car elle couvre une période critique de la mortalité adulte où les variations et tendances sont significatives. Les années choisies correspondent à celles disponibles dans les données historiques.\n"
      ],
      "metadata": {
        "id": "ZX8PSRqPBdMV"
      }
    },
    {
      "cell_type": "code",
      "source": [
        "ages.fit = 50:70"
      ],
      "metadata": {
        "id": "7psNcZSK3s2g"
      },
      "execution_count": null,
      "outputs": []
    },
    {
      "cell_type": "markdown",
      "source": [
        "### Génération de la matrice de pondération\n",
        "Pour la calibration, nous générons une matrice de pondération qui aide à lisser les données et à réduire l'impact des valeurs extrême"
      ],
      "metadata": {
        "id": "OSbrCsQICM62"
      }
    },
    {
      "cell_type": "code",
      "source": [
        "wxt <- genWeightMat(ages = ages.fit, years = eng.StMoMoData.Ini$years,clip = 3)"
      ],
      "metadata": {
        "id": "J_jA-JdW3s5H"
      },
      "execution_count": null,
      "outputs": []
    },
    {
      "cell_type": "markdown",
      "source": [
        "### Ajustement du modèle de Lee-Carter\n",
        "Nous utilisons le modèle de Lee-Carter avec un lien logarithmique pour ajuster les données. Le modèle est ensuite ajusté aux données historiques préparées"
      ],
      "metadata": {
        "id": "JK-gHp0fCwiN"
      }
    },
    {
      "cell_type": "markdown",
      "source": [
        "\n",
        "\n",
        "---\n",
        "\n"
      ],
      "metadata": {
        "id": "7hLhwye-GLTC"
      }
    },
    {
      "cell_type": "markdown",
      "source": [
        "Les paramètres estimés du modèle de Lee-Carter comprennent les vecteurs ax, bx et la série temporelle kt. Ces paramètres sont essentiels pour comprendre la structure de la mortalité et ses tendances au fil du temps.\n",
        "\n",
        "\n",
        "*   𝛼x :  représente le niveau moyen des taux de mortalité à chaque âge.\n",
        "\n",
        "\n",
        "*   bx : mesure la sensibilité des taux de mortalité à chaque âge par rapport aux changements temporels.\n",
        "*   kt :  est une série temporelle représentant l'évolution des taux de mortalité au fil du temps.\n",
        "\n",
        "\n"
      ],
      "metadata": {
        "id": "BraEwEmdGMKi"
      }
    },
    {
      "cell_type": "code",
      "source": [
        "LC <- lc(link = \"log\")\n",
        "LCfit <- fit(LC, data = eng.StMoMoData.Ini, ages.fit = ages.fit, wxt = wxt)\n",
        "LCfit\n"
      ],
      "metadata": {
        "id": "5gX_vxuq3s-T"
      },
      "execution_count": null,
      "outputs": []
    },
    {
      "cell_type": "code",
      "source": [
        "plot(LCfit)\n"
      ],
      "metadata": {
        "id": "mvPIIw75FExr"
      },
      "execution_count": null,
      "outputs": []
    },
    {
      "cell_type": "markdown",
      "source": [
        "Commentaires:\n",
        "\n",
        "  * 𝛼𝑥\n",
        "  ​\n",
        "    (Niveau de mortalité par âge):\n",
        "  On observe que\n",
        "  𝛼𝑥\n",
        "  augmente avec l'âge, ce qui est conforme à l'augmentation naturelle de la mortalité avec l'âge.\n",
        "\n",
        "  * 𝛽𝑥(Sensibilité par âge):\n",
        "  La valeur de\n",
        "  𝛽\n",
        "  𝑥\n",
        "  diminue avec l'âge, indiquant que les âges plus jeunes sont plus sensibles aux changements temporels de la mortalité par rapport aux âges plus avancés.\n",
        "\n",
        "  * 𝑘𝑡 (Indice temporel):\n",
        "  L'indice temporel\n",
        "  𝑘\n",
        "  𝑡\n",
        "  montre une tendance générale à la baisse, reflétant les améliorations dans la mortalité au fil du temps. Cependant, certaines fluctuations sont visibles, indiquant des périodes spécifiques de variation plus élevée ou plus faible."
      ],
      "metadata": {
        "id": "HCS4bIlkHiD8"
      }
    },
    {
      "cell_type": "markdown",
      "source": [
        "#### Résidus :\n",
        " L'analyse des résidus permet de vérifier si le modèle de Lee-Carter capture correctement les tendances sous-jacentes des données de mortalité. Les résidus devraient idéalement être aléatoires et ne pas montrer de patterns systématiques, indiquant un bon ajustement du modèle."
      ],
      "metadata": {
        "id": "Ym5bSG-jGsM1"
      }
    },
    {
      "cell_type": "code",
      "source": [
        "residuals_lc <- residuals(LCfit)\n",
        "plot(residuals_lc)\n"
      ],
      "metadata": {
        "id": "nypadV4d3tDw"
      },
      "execution_count": null,
      "outputs": []
    },
    {
      "cell_type": "markdown",
      "source": [
        "Commentaires:\n",
        "\n",
        " * Résidus par âge:\n",
        "\n",
        "Les résidus sont globalement distribués autour de zéro, mais il y a une certaine hétéroscédasticité visible, avec une variabilité plus grande aux âges extrêmes de la plage (50 et 70 ans).\n",
        "\n",
        "* Résidus par année calendaire:\n",
        "\n",
        "Les résidus montrent une distribution assez homogène autour de zéro, bien qu'il y ait quelques périodes où les résidus semblent plus dispersés, suggérant des changements de mortalité non capturés par le modèle pour ces périodes.\n",
        "\n",
        " * Résidus par année de naissance:\n",
        "\n",
        "Comme pour les autres graphiques de résidus, ils sont globalement autour de zéro, mais une plus grande variabilité est observée pour les cohortes plus anciennes."
      ],
      "metadata": {
        "id": "5gbhipXgIloN"
      }
    },
    {
      "cell_type": "markdown",
      "source": [
        "# Projection des taux de mortalité\n",
        "\n",
        "La projection permet de visualiser comment les taux de mortalité pourraient évoluer à l'avenir en fonction des tendances passées capturées par le modèle.\n",
        "\n",
        "\n",
        "Nous projetons les taux de mortalité pour les 25 prochaines années en utilisant les paramètres estimés du modèle de Lee-Carter."
      ],
      "metadata": {
        "id": "8EP7xnk6JMBa"
      }
    },
    {
      "cell_type": "code",
      "source": [
        "LcFore=forecast(LCfit, h = 25 ,method=mean)\n",
        "EngForcast <- forecast(LCfit , h = 25, method=mean)\n",
        "plot(EngForcast, only.kt=TRUE)\n"
      ],
      "metadata": {
        "id": "tB9cpLVa3tGg"
      },
      "execution_count": null,
      "outputs": []
    },
    {
      "cell_type": "markdown",
      "source": [
        "\n",
        "**Quantité Correspondante à la Projection Centrale**\n",
        "\n",
        "Taux de Mortalité Moyens Futurs :\n",
        "\n",
        "Les valeurs projetées de\n",
        "𝜅𝑡\n",
        "sont utilisées pour estimer les taux de mortalité futurs. En combinant ces valeurs avec les paramètres\n",
        "𝛼𝑥 et 𝛽𝑥\n",
        ", on obtient les taux de mortalité projetés pour chaque âge et chaque année.\n",
        "La projection centrale des taux de mortalité futurs est donc représentée par les valeurs attendues des taux de mortalité, dérivées des valeurs centrales de\n",
        "𝜅𝑡.\n",
        "\n",
        "**Interprétation de la Figure**\n",
        "\n",
        "Incertitude des Projections :\n",
        "\n",
        "Les bandes grises autour de la trajectoire centrale de\n",
        "𝜅𝑡\n",
        "indiquent l'incertitude des projections. Plus les bandes sont larges, plus l'incertitude est grande.\n",
        "\n",
        "La ligne noire centrale est la projection centrale, représentant la meilleure estimation des taux de mortalité futurs selon le modèle."
      ],
      "metadata": {
        "id": "9FzYjU7kQ6zx"
      }
    },
    {
      "cell_type": "markdown",
      "source": [
        "# les log taux de mortalités projetés pour la cohortes"
      ],
      "metadata": {
        "id": "vG2N_WK3Ow97"
      }
    },
    {
      "cell_type": "markdown",
      "source": [
        "Pour afficher les log taux de mortalité projetés pour la cohorte née en 1960 à partir de 2010, et calculer l'espérance de vie résiduelle de cette cohorte, suivez ces étapes :\n",
        "\n",
        "* Extraction des Taux de Mortalité pour la Cohorte née en 1960\n",
        "* Combinaison des Taux de Mortalité Historiques et Projetés\n",
        "* Affichage des Log Taux de Mortalité\n",
        "* Calcul de l'Espérance de Vie Résiduelle"
      ],
      "metadata": {
        "id": "BL_2IUrBVbgs"
      }
    },
    {
      "cell_type": "code",
      "source": [
        "\n",
        "# Extraire les taux de mortalité pour la cohorte née en 1960\n",
        "cohort_year <- 1960\n",
        "cohort_ages <- 50:75  # Âges de la cohorte en 2010 à 2035\n",
        "historical_rates <- extractCohort(fitted(LCfit, type = \"rates\"), cohort = cohort_year)\n",
        "forecasted_rates <- extractCohort(LcFore$rates, cohort = cohort_year)\n",
        "\n",
        "# Combiner les taux de mortalité historiques et projetés\n",
        "combined_rates <- c(historical_rates, forecasted_rates)\n",
        "print(length(combined_rates))  # Devrait être 76 pour 50-125 ans (environ)\n",
        "\n",
        "\n",
        "combined_rates <- c(historical_rates, forecasted_rates)\n",
        "\n",
        "combined_ages <- cohort_ages[1]:(cohort_ages[1] + length(combined_rates) - 1)\n",
        "\n",
        "plot(combined_ages, log(combined_rates), type = \"l\",\n",
        "     xlim = c(50, 100), xlab = \"Âge\", ylab = \"Log des taux de mortalité\",\n",
        "     main = \"Log des taux de mortalité projetés pour la cohorte née en 1960\")\n",
        "lines(combined_ages, log(combined_rates), col = \"red\")\n",
        "\n",
        "\n"
      ],
      "metadata": {
        "id": "Vh_U5hIrM1E7"
      },
      "execution_count": null,
      "outputs": []
    },
    {
      "cell_type": "markdown",
      "source": [
        "### Calculer l'espérance de vie résiduelle à partir de 2010"
      ],
      "metadata": {
        "id": "AUNfj47Ob7rh"
      }
    },
    {
      "cell_type": "code",
      "source": [
        "qx_proj <- LcFore$rates\n",
        "lx <- matrix(NA, nrow = nrow(qx_proj), ncol = ncol(qx_proj))\n",
        "lx[, 1] <- 1  # lx à l'âge 0 est 1\n",
        "\n",
        "for (i in 2:ncol(qx_proj)) {\n",
        "  lx[, i] <- lx[, i - 1] * (1 - qx_proj[, i - 1])\n",
        "}\n",
        "\n",
        "\n",
        "\n",
        "# Calculer l'espérance de vie résiduelle\n",
        "qx_proj <- combined_rates\n",
        "\n",
        "lx <- numeric(length(qx_proj))\n",
        "lx[1] <- 1  # lx à l'âge initial est 1\n",
        "\n",
        "\n",
        "for (i in 2:length(qx_proj)) {\n",
        "  lx[i] <- lx[i - 1] * (1 - qx_proj[i - 1])\n",
        "}\n",
        "\n",
        "# Calculer l'espérance de vie résiduelle\n",
        "ex_proj <- sum(lx) / lx[1]\n",
        "print(paste(\"Espérance de vie résiduelle à partir de 2010:\", round(ex_proj, 2)))\n"
      ],
      "metadata": {
        "id": "aDqoWWAzb4rD"
      },
      "execution_count": null,
      "outputs": []
    },
    {
      "cell_type": "markdown",
      "source": [
        "**Interprétation :**\n",
        "\n",
        " Le résultat obtenu, 20 ans, représente l'espérance de vie résiduelle pour la cohorte née en 1960 à partir de l'année 2010. Cela signifie que, selon les taux de mortalité projetés, une personne de cette cohorte peut s'attendre à vivre environ 20 années supplémentaires à partir de 2010."
      ],
      "metadata": {
        "id": "CgimyMxMag-3"
      }
    },
    {
      "cell_type": "markdown",
      "source": [
        "#### Comparaison à avec l’espérance de vie périodique en 2010.\n",
        "\n",
        ">  Extraire les taux de mortalité pour l'année 2010\n",
        "\n"
      ],
      "metadata": {
        "id": "l3COVaikcIGA"
      }
    },
    {
      "cell_type": "code",
      "source": [
        "mortality_2010 <- england$rate$male[, which(mortality_data$year == 2010)]\n",
        "\n",
        "mortality_2010 <- as.numeric(mortality_2010)\n",
        "\n",
        "px_2010 <- 1 - mortality_2010\n",
        "\n",
        "# Calculer lx, la proportion de survivants à chaque âge\n",
        "lx_2010 <- cumprod(c(1, px_2010))\n",
        "\n",
        "# Calculer l'espérance de vie périodique en 2010\n",
        "ex_2010 <- sum(lx_2010) / lx_2010[1]\n",
        "print(paste(\"Espérance de vie périodique en 2010:\", round(ex_2010, 2)))"
      ],
      "metadata": {
        "id": "ZtaoRpwVM1J4"
      },
      "execution_count": null,
      "outputs": []
    },
    {
      "cell_type": "markdown",
      "source": [
        "# Comparaison de l'espérance de vie résiduelle et de l'espérance de vie périodique\n",
        "## Résultats obtenus :\n",
        "Espérance de vie résiduelle pour la cohorte née en 1960 à partir de 2010 : 20,01 ans\n",
        "\n",
        "Espérance de vie périodique en 2010 : 78,85 ans\n",
        "\n",
        "\n",
        "### Comparaison et interprétation :\n",
        "\n",
        "Nature des mesures :\n",
        "\n",
        "\n",
        "* Espérance de vie résiduelle est spécifique à une cohorte (les personnes nées en 1960) et prend en compte les changements futurs dans les taux de mortalité. C'est une mesure dynamique qui intègre des projections sur l'évolution de la mortalité.\n",
        "\n",
        "* Espérance de vie périodique est une mesure statique basée sur les taux de mortalité d'une année particulière (2010). Elle suppose que ces taux restent constants tout au long de la vie des individus.\n",
        "\n",
        "### Valeurs obtenues :\n",
        "\n",
        "L'espérance de vie résiduelle de 20,01 ans pour la cohorte née en 1960 à partir de 2010 signifie que, selon les projections, une personne de cette cohorte vivant en 2010 peut s'attendre à vivre environ 20 ans de plus.\n",
        "L'espérance de vie périodique de 78,85 ans en 2010 représente la durée de vie moyenne attendue pour une personne née en 2010 si les taux de mortalité de cette année restaient constants toute sa vie."
      ],
      "metadata": {
        "id": "HjgpG5N0cp9F"
      }
    },
    {
      "cell_type": "markdown",
      "source": [
        "#   VAP des deux contrats en utilisant les taux projetés.\n",
        "\n",
        "Pour calculer la Valeur Actuarielle Présente (VAP) des deux contrats en utilisant les taux de mortalité projetés, nous avons défini deux fonctions R :\n",
        "* calc_vap_rente pour la rente viagère anticipée\n",
        "* calc_vap_deces pour le capital décès"
      ],
      "metadata": {
        "id": "qVGQTK-heFZN"
      }
    },
    {
      "cell_type": "code",
      "source": [
        "# Fonction pour calculer la VAP de la rente viagère anticipée\n",
        "calc_vap_rente <- function(rente_mensuelle, taux_mortalite, taux_interet_annuel) {\n",
        "  # Calculer le taux d'intérêt mensuel\n",
        "  taux_interet_mensuel <- taux_interet_annuel / 12\n",
        "\n",
        "  # Calculer les probabilités de survie annuelle\n",
        "  px <- 1 - taux_mortalite\n",
        "\n",
        "  # Calculer les probabilités de survie cumulée\n",
        "  survival_probs <- cumprod(px)\n",
        "\n",
        "  # Calculer la VAP de la rente viagère anticipée\n",
        "  VAP_rente <- sum(rente_mensuelle * survival_probs / (1 + taux_interet_mensuel)^(0:(length(survival_probs) * 12 - 1)))\n",
        "\n",
        "  return(VAP_rente)\n",
        "}\n",
        "\n",
        "# Exemple d'utilisation\n",
        "rente_mensuelle <- 2000\n",
        "taux_interet_annuel <- 0.03\n",
        "taux_mortalite_proj <- combined_rates  # Taux de mortalité projetés\n",
        "\n",
        "VAP_rente <- calc_vap_rente(rente_mensuelle, taux_mortalite_proj, taux_interet_annuel)\n",
        "print(paste(\"VAP de la rente viagère anticipée :\", round(VAP_rente, 2)))\n",
        "\n",
        "\n",
        "\n",
        "  # Fonction pour calculer la VAP du capital décès\n",
        "  calc_vap_deces <- function(capital_deces, taux_mortalite, taux_interet_annuel) {\n",
        "    # Calculer les probabilités de survie annuelle\n",
        "    px <- 1 - taux_mortalite\n",
        "\n",
        "    # Calculer les probabilités de survie cumulée\n",
        "    survival_probs <- cumprod(px)\n",
        "\n",
        "    # Calculer la VAP du capital décès\n",
        "    VAP_deces <- sum(capital_deces * taux_mortalite * survival_probs / (1 + taux_interet_annuel)^(1:length(taux_mortalite)))\n",
        "\n",
        "    return(VAP_deces)\n",
        "  }\n",
        "\n",
        "capital_deces <- 10000\n",
        "\n",
        "\n",
        "VAP_deces <- calc_vap_deces(capital_deces, taux_mortalite_proj, taux_interet_annuel)\n",
        "print(paste(\"VAP du capital décès :\", round(VAP_deces, 2)))\n",
        "\n"
      ],
      "metadata": {
        "id": "aPqUiE12M1MS"
      },
      "execution_count": null,
      "outputs": []
    },
    {
      "cell_type": "markdown",
      "source": [
        "# **Analyse des VAP**\n",
        "\n",
        "\n",
        "**Rente viagère anticipée :**\n",
        "\n",
        "\n",
        "* La VAP de 354,524.38 représente la valeur actuelle de tous les paiements mensuels de 2,000 unités que l'assuré recevrait tout au long de sa vie, actualisés au taux d'intérêt annuel de 3%. Cette valeur est relativement élevée car elle cumule de nombreux paiements mensuels sur une longue période (environ 20 ans d'espérance de vie résiduelle).\n",
        "\n",
        "**Capital décès :**\n",
        "\n",
        "* La VAP de 979.03 est beaucoup plus faible car elle représente un paiement unique de 10,000 unités au décès de l'assuré, actualisé par les probabilités de décès chaque année et au taux d'intérêt de 3%. Le faible montant s'explique par la combinaison de la probabilité de décès à chaque âge et l'actualisation."
      ],
      "metadata": {
        "id": "u-S1BK9ThOf_"
      }
    },
    {
      "cell_type": "markdown",
      "source": [
        "### l’espérance de vie de la cohorte et les VAP des produits"
      ],
      "metadata": {
        "id": "Q5McIzaqYR-t"
      }
    },
    {
      "cell_type": "code",
      "source": [
        "# Définir les paramètres du choc de mortalité\n",
        "taux_augmentation <- 0.20\n",
        "annees_changement <- 2020:2025\n",
        "years_proj <- LcFore$years\n",
        "\n",
        "# Fonction pour recalculer l'espérance de vie résiduelle avec les nouveaux taux de mortalité projetés\n",
        "recalculer_esp_vie_residuelle <- function(qx_proj, taux_augmentation, annees_changement, annees_proj) {\n",
        "  indices <- which(annees_proj %in% annees_changement)\n",
        "  qx_proj[indices] <- qx_proj[indices] * (1 + taux_augmentation)\n",
        "  lx <- numeric(length(qx_proj))\n",
        "  lx[1] <- 1  # lx à l'âge initial est 1\n",
        "  for (i in 2:length(qx_proj)) {\n",
        "    lx[i] <- lx[i - 1] * (1 - qx_proj[i - 1])\n",
        "  }\n",
        "  ex_proj <- sum(lx) / lx[1]\n",
        "  return(ex_proj)\n",
        "}\n",
        "\n",
        "# Recalcul de l'espérance de vie résiduelle avec choc de mortalité\n",
        "qx_proj <- combined_rates\n",
        "annees_proj <- years_proj  # Assurez-vous que cette variable contient les années projetées\n",
        "ex_proj_choc <- recalculer_esp_vie_residuelle(qx_proj, taux_augmentation, annees_changement, annees_proj)\n",
        "print(paste(\"Nouvelle espérance de vie résiduelle avec choc de mortalité à partir de 2020:\", round(ex_proj_choc, 2)))\n",
        "\n",
        "# Fonction pour calculer la VAP de la rente viagère anticipée\n",
        "calc_vap_rente <- function(rente_mensuelle, taux_mortalite, taux_interet_annuel) {\n",
        "  # Calculer le taux d'intérêt mensuel\n",
        "  taux_interet_mensuel <- (1 + taux_interet_annuel)^(1/12) - 1\n",
        "\n",
        "  # Calculer les probabilités de survie annuelle\n",
        "  px <- 1 - taux_mortalite\n",
        "\n",
        "  # Calculer les probabilités de survie cumulée\n",
        "  survival_probs <- cumprod(px)\n",
        "\n",
        "  # Calculer la VAP de la rente viagère anticipée\n",
        "  VAP_rente <- sum(rente_mensuelle * survival_probs / (1 + taux_interet_mensuel)^(0:(length(survival_probs) - 1)))\n",
        "\n",
        "  return(VAP_rente)\n",
        "}\n",
        "\n",
        "# Exemple d'utilisation avec les nouveaux taux de mortalité\n",
        "rente_mensuelle <- 2000\n",
        "taux_interet_annuel <- 0.03\n",
        "VAP_rente_choc <- calc_vap_rente(rente_mensuelle, qx_proj, taux_interet_annuel)\n",
        "print(paste(\"VAP de la rente viagère anticipée avec choc de mortalité:\", round(VAP_rente_choc, 2)))\n",
        "\n",
        "# Fonction pour calculer la VAP du capital décès\n",
        "calc_vap_deces <- function(capital_deces, taux_mortalite, taux_interet_annuel) {\n",
        "  # Calculer les probabilités de survie annuelle\n",
        "  px <- 1 - taux_mortalite\n",
        "\n",
        "  # Calculer les probabilités de survie cumulée\n",
        "  survival_probs <- cumprod(px)\n",
        "\n",
        "  # Calculer la VAP du capital décès\n",
        "  VAP_deces <- sum(capital_deces * taux_mortalite * c(1, head(survival_probs, -1)) / (1 + taux_interet_annuel)^(1:length(taux_mortalite)))\n",
        "\n",
        "  return(VAP_deces)\n",
        "}\n",
        "\n",
        "# Exemple d'utilisation avec les nouveaux taux de mortalité\n",
        "capital_deces <- 10000\n",
        "VAP_deces_choc <- calc_vap_deces(capital_deces, qx_proj, taux_interet_annuel)\n",
        "\n",
        "\n",
        "print(paste(\"Nouvelle espérance de vie résiduelle avec choc de mortalité\", round(ex_proj_choc, 2)))\n",
        "print(paste(\"VAP du capital décès avec choc de mortalité:\", round(VAP_deces_choc, 2)))\n"
      ],
      "metadata": {
        "id": "PIvRsFyVM1SW"
      },
      "execution_count": null,
      "outputs": []
    },
    {
      "cell_type": "markdown",
      "source": [
        "### * Nouvelle espérance de vie résiduelle avec choc de mortalité à partir de 2020: 19.98\n",
        "\n",
        "Cette valeur indique que même après l'application du choc de mortalité, l'espérance de vie résiduelle de la cohorte reste relativement stable par rapport à sa valeur précédente. Cela suggère que bien que les taux de mortalité aient augmenté de 20% entre 2020 et 2025, l'impact sur l'espérance de vie résiduelle est limité, ce qui peut être interprété comme une résilience de la population face à ce choc de mortalité.\n",
        "\n",
        "### * VAP de la rente viagère anticipée avec choc de mortalité:38793.65\n",
        "\n",
        "Cette valeur indique que malgré le choc de mortalité, la valeur actuelle probable des paiements mensuels de la rente viagère anticipée reste relativement élevée. Cela suggère que même avec une augmentation des taux de mortalité, la rente viagère demeure un produit d'assurance attrayant en raison de la sécurité financière qu'elle offre sur une longue période.\n",
        "\n",
        "#### * VAP du capital décès avec choc de mortalité: 988.52\n",
        "\n",
        "Cette valeur suggère que même après le choc de mortalité, la valeur actuelle probable du capital décès reste relativement basse en raison de sa nature de paiement unique. Cela signifie que bien que le choc de mortalité puisse augmenter les risques de décès, l'impact financier immédiat sur le capital décès demeure limité."
      ],
      "metadata": {
        "id": "HsE_3e4gmWSr"
      }
    }
  ],
  "metadata": {
    "accelerator": "GPU",
    "colab": {
      "gpuType": "T4",
      "provenance": []
    },
    "kernelspec": {
      "display_name": "R",
      "name": "ir"
    },
    "language_info": {
      "name": "R"
    }
  },
  "nbformat": 4,
  "nbformat_minor": 0
}